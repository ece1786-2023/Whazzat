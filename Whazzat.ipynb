{
  "cells": [
    {
      "cell_type": "code",
      "execution_count": 1,
      "metadata": {
        "id": "-W4ej3Ln0ZZ6"
      },
      "outputs": [],
      "source": [
        "%%capture\n",
        "%pip install accelerate peft bitsandbytes transformers trl huggingface_hub gradio openai"
      ]
    },
    {
      "cell_type": "code",
      "execution_count": 2,
      "metadata": {
        "id": "SzDpfmFo2wJj"
      },
      "outputs": [],
      "source": [
        "%%capture\n",
        "%pip install --upgrade langchain"
      ]
    },
    {
      "cell_type": "code",
      "execution_count": 3,
      "metadata": {
        "id": "EsEFYaigzyNN"
      },
      "outputs": [],
      "source": [
        "import os\n",
        "import torch\n",
        "from transformers import (\n",
        "    AutoModelForCausalLM,\n",
        "    AutoTokenizer,\n",
        "    pipeline,\n",
        "    logging,\n",
        "    BitsAndBytesConfig\n",
        ")\n",
        "from langchain.prompts import PromptTemplate\n",
        "from langchain.chains import LLMChain\n",
        "from langchain.llms.huggingface_pipeline import HuggingFacePipeline\n",
        "import requests\n",
        "import pandas as pd\n",
        "import gradio as gr"
      ]
    },
    {
      "cell_type": "code",
      "execution_count": 4,
      "metadata": {
        "colab": {
          "base_uri": "https://localhost:8080/",
          "height": 153,
          "referenced_widgets": [
            "5a9895f4f68a402684bb418564c24fb0",
            "27362192852f4a53ae63cf62d78e202c",
            "68247ebed39549c1a90d2d96baf9922b",
            "78668ae956b8494aa8e3b4491bea4e1d",
            "7f4fe8eeb797454b8ae0a21ab6509854",
            "2d185340e1ad480bab2f686b1ea4aa20",
            "0d443ddae0da410c9466d6485365818a",
            "68fe85e2fec14d93b1b7d83d94d458f3",
            "ffa64029b49b41a7b7e62fe8efa1e472",
            "8174da7f0efd447b9f9f602defbac133",
            "f8c6c4106f9a438998dfd464cda32102",
            "92a14d736bfd4e1ea294af6f78b05882",
            "dca394773437492b91e15243bc91408f",
            "dd58ef89e0dc4251be492a320c458356",
            "1c3d6ab16cc24228864e15ac32c21d70",
            "fc6a0b6ab2a64bff94bbfef090cd2de6",
            "a03753f07405418fab1496564c2817c3",
            "e3de9cb807d54efd8ac9904f4e2fe5dd",
            "4519e06278204de99ac218b63ce410f0",
            "94aa4a7534ed4d24b7ec5aa2d97c0980",
            "c7b30721f0ed428493867569425b6fa1",
            "e01b0db777a24e96a479b3a8eda6d4df"
          ]
        },
        "id": "5RmOmZJwyB_9",
        "outputId": "e5d50114-d990-4655-b8c9-c7e10e445417"
      },
      "outputs": [
        {
          "data": {
            "application/vnd.jupyter.widget-view+json": {
              "model_id": "5a9895f4f68a402684bb418564c24fb0",
              "version_major": 2,
              "version_minor": 0
            },
            "text/plain": [
              "Loading checkpoint shards:   0%|          | 0/2 [00:00<?, ?it/s]"
            ]
          },
          "metadata": {},
          "output_type": "display_data"
        },
        {
          "name": "stderr",
          "output_type": "stream",
          "text": [
            "/usr/local/lib/python3.10/dist-packages/transformers/utils/hub.py:374: FutureWarning: The `use_auth_token` argument is deprecated and will be removed in v5 of Transformers. Please use `token` instead.\n",
            "  warnings.warn(\n"
          ]
        },
        {
          "data": {
            "application/vnd.jupyter.widget-view+json": {
              "model_id": "92a14d736bfd4e1ea294af6f78b05882",
              "version_major": 2,
              "version_minor": 0
            },
            "text/plain": [
              "Loading checkpoint shards:   0%|          | 0/2 [00:00<?, ?it/s]"
            ]
          },
          "metadata": {},
          "output_type": "display_data"
        },
        {
          "name": "stderr",
          "output_type": "stream",
          "text": [
            "WARNING:root:Some parameters are on the meta device device because they were offloaded to the cpu.\n"
          ]
        }
      ],
      "source": [
        "adapter_model = \"naqib3110/llama-2-7b-chat-whazzat\"\n",
        "base_model = \"meta-llama/Llama-2-7b-chat-hf\"\n",
        "compute_dtype = getattr(torch, \"float16\")\n",
        "\n",
        "quant_config = BitsAndBytesConfig(\n",
        "    load_in_4bit=True,\n",
        "    bnb_4bit_quant_type=\"nf4\",\n",
        "    bnb_4bit_compute_dtype=compute_dtype,\n",
        "    bnb_4bit_use_double_quant=False,\n",
        ")\n",
        "\n",
        "model = AutoModelForCausalLM.from_pretrained(base_model,\n",
        "    quantization_config=quant_config,\n",
        "    device_map={\"\": 0},\n",
        "    token='YOUR_HF_ACCESS_TOKEN')\n",
        "model.config.use_cache = False\n",
        "model.config.pretraining_tp = 1\n",
        "model.load_adapter(adapter_model)\n",
        "\n",
        "pipeline = pipeline(\n",
        "    \"text-generation\",\n",
        "    model=\"naqib3110/llama-2-7b-chat-whazzat\",\n",
        "    tokenizer=\"naqib3110/llama-2-7b-chat-whazzat\",\n",
        "    torch_dtype=torch.bfloat16,\n",
        "    trust_remote_code=True,\n",
        "    device_map=\"auto\",\n",
        "    max_length=250,\n",
        "    do_sample=True,\n",
        "    top_k=10,\n",
        "    token='YOUR_HF_ACCESS_TOKEN'\n",
        ")"
      ]
    },
    {
      "cell_type": "code",
      "execution_count": 5,
      "metadata": {
        "id": "nTdpkub35pJy"
      },
      "outputs": [],
      "source": [
        "template = \"\"\"\n",
        "           You are an expert product recommender,\n",
        "           You can generate product recommendations based on simple description of users' need.\n",
        "           Recommend products that are as relevant as possible .\n",
        "           Recommend only 5 products.\n",
        "           Do not generate additional prompt as a user\n",
        "           Only generate 1 array for the asked usecase\n",
        "           Return nothing but an array of 5 items. Leave out any extra words that have nothing to do with the product names.\n",
        "\n",
        "           example,\n",
        "           USER: something to clean my house\n",
        "           PRODUCT RECOMMENDER: ['Vacuum Cleaner','Mop and Bucket','Broom and Dustpan','Steam Cleaner','Robot Vacuum'].\n",
        "\n",
        "           USER: {query}\n",
        "           PRODUCT RECOMMENDER:\n",
        "           \"\"\"\n",
        "llm = HuggingFacePipeline(pipeline=pipeline,model_kwargs={'temperature':0.6})\n",
        "prompt = PromptTemplate(template=template, input_variables=[\"query\"])\n",
        "llm_chain = LLMChain(prompt=prompt, llm=llm)"
      ]
    },
    {
      "cell_type": "code",
      "execution_count": 6,
      "metadata": {
        "id": "mek8IWOcFf29"
      },
      "outputs": [],
      "source": [
        "def cleanGenOutput(result):\n",
        "  cleaned_str = result.replace(\"'\", \" \").replace(\"[\", \" \").replace(\"]\",\" \").split(',')\n",
        "  stripped = [s.strip() for s in cleaned_str]\n",
        "  print(stripped)\n",
        "  url = \"https://axesso-axesso-amazon-data-service-v1.p.rapidapi.com/amz/amazon-search-by-keyword-asin\"\n",
        "  headers = {\n",
        "    \"X-RapidAPI-Key\": \"YOUR_RAPIDAPI_ACCESS_TOKEN\",\n",
        "    \"X-RapidAPI-Host\": \"axesso-axesso-amazon-data-service-v1.p.rapidapi.com\"\n",
        "  }\n",
        "  df = pd.DataFrame()\n",
        "  for i in stripped:\n",
        "    print(i)\n",
        "    querystring = {\"domainCode\":\"ca\",\"keyword\":i,\"page\":\"1\",\"excludeSponsored\":\"false\",\"sortBy\":\"relevanceblender\",\"withCache\":\"true\"}\n",
        "    response = requests.get(url, headers=headers, params=querystring)\n",
        "    productDetails = response.json()['searchProductDetails']\n",
        "    # productDetails = response['searchProductDetails']\n",
        "    df1=pd.DataFrame(productDetails)\n",
        "    df1['productRating']=df1['productRating'].str.split(expand=True)[0]\n",
        "    df1['dpUrl']=\"https://amazon.ca\" + df1['dpUrl']\n",
        "    # print(df.keys())\n",
        "    col_list = ['productDescription', 'countReview', 'imgUrl', 'price', 'retailPrice', 'productRating', 'dpUrl']\n",
        "    temp = df1[col_list]\n",
        "    # df = df.append(temp)\n",
        "    df = pd.concat([df, temp.head(15)], ignore_index=False)\n",
        "\n",
        "  df = df.head(50)\n",
        "  df.sort_values(by=['countReview', 'productRating'], inplace=True, ascending=False)\n",
        "\n",
        "  df.sort_values(by=['price'], inplace=True)\n",
        "  df = df.reset_index()\n",
        "  df = df.drop(columns=['index'])\n",
        "  return df"
      ]
    },
    {
      "cell_type": "code",
      "execution_count": 7,
      "metadata": {
        "id": "UrV3SyhhcjlG"
      },
      "outputs": [],
      "source": [
        "def gen(query):\n",
        "    result = llm_chain.run(query)\n",
        "    cleaned_str = result.split('.')[0].split('\\n')[0]\n",
        "    print(cleaned_str)\n",
        "\n",
        "    return cleaned_str, cleanGenOutput(cleaned_str)"
      ]
    },
    {
      "cell_type": "code",
      "execution_count": 8,
      "metadata": {
        "id": "JX80Tk8EMCwl"
      },
      "outputs": [],
      "source": [
        "def outputdf(text=None):\n",
        "  gen_output, response = gen(text)\n",
        "  result = response.values.tolist()\n",
        "  # flat_list = [item for sublist in result for item in sublist]\n",
        "  html_output = f\"<div>Result is showing for {gen_output} </div><br/><div style='display: flex; flex-direction: column;'>\"\n",
        "\n",
        "  for item in result:\n",
        "      html_output += f\"\"\"\n",
        "      <div style='display: flex; align-items: center; margin-bottom: 10px;'>\n",
        "          <div style='width: 100px;background: #fff;margin: 10px;display: flex;align-items: center;justify-content: center;'><img src='{item[2]}' style='height: 5rem; margin-right: 10px;'/></div>\n",
        "          <div>\n",
        "              <b>Name:</b> {item[0]}<br>\n",
        "              <b>Price:</b> ${item[3]}<br>\n",
        "              <b>Rating:</b> {item[5]}/5<br>\n",
        "              <a href='{item[6]}'>Amazon Link</a>\n",
        "          </div>\n",
        "      </div>\n",
        "      \"\"\"\n",
        "\n",
        "  return html_output\n"
      ]
    },
    {
      "cell_type": "code",
      "execution_count": 9,
      "metadata": {
        "colab": {
          "base_uri": "https://localhost:8080/",
          "height": 802
        },
        "id": "GOESezzb6sXv",
        "outputId": "4f903f3f-eed9-419a-fadb-da860a180150"
      },
      "outputs": [
        {
          "name": "stdout",
          "output_type": "stream",
          "text": [
            "Setting queue=True in a Colab notebook requires sharing enabled. Setting `share=True` (you can turn this off by setting `share=False` in `launch()` explicitly).\n",
            "\n",
            "Colab notebook detected. This cell will run indefinitely so that you can see errors and logs. To turn off, set debug=False in launch().\n",
            "Running on public URL: https://bdc2bcd447b926a812.gradio.live\n",
            "\n",
            "This share link expires in 72 hours. For free permanent hosting and GPU upgrades, run `gradio deploy` from Terminal to deploy to Spaces (https://huggingface.co/spaces)\n"
          ]
        },
        {
          "data": {
            "text/html": [
              "<div><iframe src=\"https://bdc2bcd447b926a812.gradio.live\" width=\"100%\" height=\"500\" allow=\"autoplay; camera; microphone; clipboard-read; clipboard-write;\" frameborder=\"0\" allowfullscreen></iframe></div>"
            ],
            "text/plain": [
              "<IPython.core.display.HTML object>"
            ]
          },
          "metadata": {},
          "output_type": "display_data"
        },
        {
          "name": "stdout",
          "output_type": "stream",
          "text": [
            " ['Scented Candle', 'Aromatherapy Diffuser', 'Weighted Blanket', 'Relaxing Eye Mask', 'Comfortable Pillow']\n",
            "['Scented Candle', 'Aromatherapy Diffuser', 'Weighted Blanket', 'Relaxing Eye Mask', 'Comfortable Pillow']\n",
            "Scented Candle\n",
            "Aromatherapy Diffuser\n",
            "Weighted Blanket\n",
            "Relaxing Eye Mask\n",
            "Comfortable Pillow\n",
            "Keyboard interruption in main thread... closing server.\n",
            "Killing tunnel 127.0.0.1:7860 <> https://bdc2bcd447b926a812.gradio.live\n"
          ]
        },
        {
          "data": {
            "text/plain": []
          },
          "execution_count": 9,
          "metadata": {},
          "output_type": "execute_result"
        }
      ],
      "source": [
        "import gradio as gr\n",
        "\n",
        "css = \".output_image {height: 5rem !important; width: 10% !important;}\"\n",
        "\n",
        "def create_interface():\n",
        "    with gr.Blocks(css=css) as demo:\n",
        "        with gr.Row():\n",
        "            user_input = gr.Textbox(label=\"Enter text here\")\n",
        "            submit_button = gr.Button(\"Submit\")\n",
        "\n",
        "        output_html = gr.HTML()\n",
        "\n",
        "        submit_button.click(fn=outputdf, inputs=user_input, outputs=output_html)\n",
        "\n",
        "    return demo\n",
        "\n",
        "demo = create_interface()\n",
        "demo.launch(debug=True)\n"
      ]
    }
  ],
  "metadata": {
    "accelerator": "GPU",
    "colab": {
      "machine_shape": "hm",
      "provenance": []
    },
    "kernelspec": {
      "display_name": "Python 3",
      "name": "python3"
    },
    "language_info": {
      "name": "python"
    },
    "widgets": {
      "application/vnd.jupyter.widget-state+json": {
        "0d443ddae0da410c9466d6485365818a": {
          "model_module": "@jupyter-widgets/controls",
          "model_module_version": "1.5.0",
          "model_name": "DescriptionStyleModel",
          "state": {
            "_model_module": "@jupyter-widgets/controls",
            "_model_module_version": "1.5.0",
            "_model_name": "DescriptionStyleModel",
            "_view_count": null,
            "_view_module": "@jupyter-widgets/base",
            "_view_module_version": "1.2.0",
            "_view_name": "StyleView",
            "description_width": ""
          }
        },
        "1c3d6ab16cc24228864e15ac32c21d70": {
          "model_module": "@jupyter-widgets/controls",
          "model_module_version": "1.5.0",
          "model_name": "HTMLModel",
          "state": {
            "_dom_classes": [],
            "_model_module": "@jupyter-widgets/controls",
            "_model_module_version": "1.5.0",
            "_model_name": "HTMLModel",
            "_view_count": null,
            "_view_module": "@jupyter-widgets/controls",
            "_view_module_version": "1.5.0",
            "_view_name": "HTMLView",
            "description": "",
            "description_tooltip": null,
            "layout": "IPY_MODEL_c7b30721f0ed428493867569425b6fa1",
            "placeholder": "​",
            "style": "IPY_MODEL_e01b0db777a24e96a479b3a8eda6d4df",
            "value": " 2/2 [01:05&lt;00:00, 30.02s/it]"
          }
        },
        "27362192852f4a53ae63cf62d78e202c": {
          "model_module": "@jupyter-widgets/controls",
          "model_module_version": "1.5.0",
          "model_name": "HTMLModel",
          "state": {
            "_dom_classes": [],
            "_model_module": "@jupyter-widgets/controls",
            "_model_module_version": "1.5.0",
            "_model_name": "HTMLModel",
            "_view_count": null,
            "_view_module": "@jupyter-widgets/controls",
            "_view_module_version": "1.5.0",
            "_view_name": "HTMLView",
            "description": "",
            "description_tooltip": null,
            "layout": "IPY_MODEL_2d185340e1ad480bab2f686b1ea4aa20",
            "placeholder": "​",
            "style": "IPY_MODEL_0d443ddae0da410c9466d6485365818a",
            "value": "Loading checkpoint shards: 100%"
          }
        },
        "2d185340e1ad480bab2f686b1ea4aa20": {
          "model_module": "@jupyter-widgets/base",
          "model_module_version": "1.2.0",
          "model_name": "LayoutModel",
          "state": {
            "_model_module": "@jupyter-widgets/base",
            "_model_module_version": "1.2.0",
            "_model_name": "LayoutModel",
            "_view_count": null,
            "_view_module": "@jupyter-widgets/base",
            "_view_module_version": "1.2.0",
            "_view_name": "LayoutView",
            "align_content": null,
            "align_items": null,
            "align_self": null,
            "border": null,
            "bottom": null,
            "display": null,
            "flex": null,
            "flex_flow": null,
            "grid_area": null,
            "grid_auto_columns": null,
            "grid_auto_flow": null,
            "grid_auto_rows": null,
            "grid_column": null,
            "grid_gap": null,
            "grid_row": null,
            "grid_template_areas": null,
            "grid_template_columns": null,
            "grid_template_rows": null,
            "height": null,
            "justify_content": null,
            "justify_items": null,
            "left": null,
            "margin": null,
            "max_height": null,
            "max_width": null,
            "min_height": null,
            "min_width": null,
            "object_fit": null,
            "object_position": null,
            "order": null,
            "overflow": null,
            "overflow_x": null,
            "overflow_y": null,
            "padding": null,
            "right": null,
            "top": null,
            "visibility": null,
            "width": null
          }
        },
        "4519e06278204de99ac218b63ce410f0": {
          "model_module": "@jupyter-widgets/base",
          "model_module_version": "1.2.0",
          "model_name": "LayoutModel",
          "state": {
            "_model_module": "@jupyter-widgets/base",
            "_model_module_version": "1.2.0",
            "_model_name": "LayoutModel",
            "_view_count": null,
            "_view_module": "@jupyter-widgets/base",
            "_view_module_version": "1.2.0",
            "_view_name": "LayoutView",
            "align_content": null,
            "align_items": null,
            "align_self": null,
            "border": null,
            "bottom": null,
            "display": null,
            "flex": null,
            "flex_flow": null,
            "grid_area": null,
            "grid_auto_columns": null,
            "grid_auto_flow": null,
            "grid_auto_rows": null,
            "grid_column": null,
            "grid_gap": null,
            "grid_row": null,
            "grid_template_areas": null,
            "grid_template_columns": null,
            "grid_template_rows": null,
            "height": null,
            "justify_content": null,
            "justify_items": null,
            "left": null,
            "margin": null,
            "max_height": null,
            "max_width": null,
            "min_height": null,
            "min_width": null,
            "object_fit": null,
            "object_position": null,
            "order": null,
            "overflow": null,
            "overflow_x": null,
            "overflow_y": null,
            "padding": null,
            "right": null,
            "top": null,
            "visibility": null,
            "width": null
          }
        },
        "5a9895f4f68a402684bb418564c24fb0": {
          "model_module": "@jupyter-widgets/controls",
          "model_module_version": "1.5.0",
          "model_name": "HBoxModel",
          "state": {
            "_dom_classes": [],
            "_model_module": "@jupyter-widgets/controls",
            "_model_module_version": "1.5.0",
            "_model_name": "HBoxModel",
            "_view_count": null,
            "_view_module": "@jupyter-widgets/controls",
            "_view_module_version": "1.5.0",
            "_view_name": "HBoxView",
            "box_style": "",
            "children": [
              "IPY_MODEL_27362192852f4a53ae63cf62d78e202c",
              "IPY_MODEL_68247ebed39549c1a90d2d96baf9922b",
              "IPY_MODEL_78668ae956b8494aa8e3b4491bea4e1d"
            ],
            "layout": "IPY_MODEL_7f4fe8eeb797454b8ae0a21ab6509854"
          }
        },
        "68247ebed39549c1a90d2d96baf9922b": {
          "model_module": "@jupyter-widgets/controls",
          "model_module_version": "1.5.0",
          "model_name": "FloatProgressModel",
          "state": {
            "_dom_classes": [],
            "_model_module": "@jupyter-widgets/controls",
            "_model_module_version": "1.5.0",
            "_model_name": "FloatProgressModel",
            "_view_count": null,
            "_view_module": "@jupyter-widgets/controls",
            "_view_module_version": "1.5.0",
            "_view_name": "ProgressView",
            "bar_style": "success",
            "description": "",
            "description_tooltip": null,
            "layout": "IPY_MODEL_68fe85e2fec14d93b1b7d83d94d458f3",
            "max": 2,
            "min": 0,
            "orientation": "horizontal",
            "style": "IPY_MODEL_ffa64029b49b41a7b7e62fe8efa1e472",
            "value": 2
          }
        },
        "68fe85e2fec14d93b1b7d83d94d458f3": {
          "model_module": "@jupyter-widgets/base",
          "model_module_version": "1.2.0",
          "model_name": "LayoutModel",
          "state": {
            "_model_module": "@jupyter-widgets/base",
            "_model_module_version": "1.2.0",
            "_model_name": "LayoutModel",
            "_view_count": null,
            "_view_module": "@jupyter-widgets/base",
            "_view_module_version": "1.2.0",
            "_view_name": "LayoutView",
            "align_content": null,
            "align_items": null,
            "align_self": null,
            "border": null,
            "bottom": null,
            "display": null,
            "flex": null,
            "flex_flow": null,
            "grid_area": null,
            "grid_auto_columns": null,
            "grid_auto_flow": null,
            "grid_auto_rows": null,
            "grid_column": null,
            "grid_gap": null,
            "grid_row": null,
            "grid_template_areas": null,
            "grid_template_columns": null,
            "grid_template_rows": null,
            "height": null,
            "justify_content": null,
            "justify_items": null,
            "left": null,
            "margin": null,
            "max_height": null,
            "max_width": null,
            "min_height": null,
            "min_width": null,
            "object_fit": null,
            "object_position": null,
            "order": null,
            "overflow": null,
            "overflow_x": null,
            "overflow_y": null,
            "padding": null,
            "right": null,
            "top": null,
            "visibility": null,
            "width": null
          }
        },
        "78668ae956b8494aa8e3b4491bea4e1d": {
          "model_module": "@jupyter-widgets/controls",
          "model_module_version": "1.5.0",
          "model_name": "HTMLModel",
          "state": {
            "_dom_classes": [],
            "_model_module": "@jupyter-widgets/controls",
            "_model_module_version": "1.5.0",
            "_model_name": "HTMLModel",
            "_view_count": null,
            "_view_module": "@jupyter-widgets/controls",
            "_view_module_version": "1.5.0",
            "_view_name": "HTMLView",
            "description": "",
            "description_tooltip": null,
            "layout": "IPY_MODEL_8174da7f0efd447b9f9f602defbac133",
            "placeholder": "​",
            "style": "IPY_MODEL_f8c6c4106f9a438998dfd464cda32102",
            "value": " 2/2 [01:12&lt;00:00, 32.67s/it]"
          }
        },
        "7f4fe8eeb797454b8ae0a21ab6509854": {
          "model_module": "@jupyter-widgets/base",
          "model_module_version": "1.2.0",
          "model_name": "LayoutModel",
          "state": {
            "_model_module": "@jupyter-widgets/base",
            "_model_module_version": "1.2.0",
            "_model_name": "LayoutModel",
            "_view_count": null,
            "_view_module": "@jupyter-widgets/base",
            "_view_module_version": "1.2.0",
            "_view_name": "LayoutView",
            "align_content": null,
            "align_items": null,
            "align_self": null,
            "border": null,
            "bottom": null,
            "display": null,
            "flex": null,
            "flex_flow": null,
            "grid_area": null,
            "grid_auto_columns": null,
            "grid_auto_flow": null,
            "grid_auto_rows": null,
            "grid_column": null,
            "grid_gap": null,
            "grid_row": null,
            "grid_template_areas": null,
            "grid_template_columns": null,
            "grid_template_rows": null,
            "height": null,
            "justify_content": null,
            "justify_items": null,
            "left": null,
            "margin": null,
            "max_height": null,
            "max_width": null,
            "min_height": null,
            "min_width": null,
            "object_fit": null,
            "object_position": null,
            "order": null,
            "overflow": null,
            "overflow_x": null,
            "overflow_y": null,
            "padding": null,
            "right": null,
            "top": null,
            "visibility": null,
            "width": null
          }
        },
        "8174da7f0efd447b9f9f602defbac133": {
          "model_module": "@jupyter-widgets/base",
          "model_module_version": "1.2.0",
          "model_name": "LayoutModel",
          "state": {
            "_model_module": "@jupyter-widgets/base",
            "_model_module_version": "1.2.0",
            "_model_name": "LayoutModel",
            "_view_count": null,
            "_view_module": "@jupyter-widgets/base",
            "_view_module_version": "1.2.0",
            "_view_name": "LayoutView",
            "align_content": null,
            "align_items": null,
            "align_self": null,
            "border": null,
            "bottom": null,
            "display": null,
            "flex": null,
            "flex_flow": null,
            "grid_area": null,
            "grid_auto_columns": null,
            "grid_auto_flow": null,
            "grid_auto_rows": null,
            "grid_column": null,
            "grid_gap": null,
            "grid_row": null,
            "grid_template_areas": null,
            "grid_template_columns": null,
            "grid_template_rows": null,
            "height": null,
            "justify_content": null,
            "justify_items": null,
            "left": null,
            "margin": null,
            "max_height": null,
            "max_width": null,
            "min_height": null,
            "min_width": null,
            "object_fit": null,
            "object_position": null,
            "order": null,
            "overflow": null,
            "overflow_x": null,
            "overflow_y": null,
            "padding": null,
            "right": null,
            "top": null,
            "visibility": null,
            "width": null
          }
        },
        "92a14d736bfd4e1ea294af6f78b05882": {
          "model_module": "@jupyter-widgets/controls",
          "model_module_version": "1.5.0",
          "model_name": "HBoxModel",
          "state": {
            "_dom_classes": [],
            "_model_module": "@jupyter-widgets/controls",
            "_model_module_version": "1.5.0",
            "_model_name": "HBoxModel",
            "_view_count": null,
            "_view_module": "@jupyter-widgets/controls",
            "_view_module_version": "1.5.0",
            "_view_name": "HBoxView",
            "box_style": "",
            "children": [
              "IPY_MODEL_dca394773437492b91e15243bc91408f",
              "IPY_MODEL_dd58ef89e0dc4251be492a320c458356",
              "IPY_MODEL_1c3d6ab16cc24228864e15ac32c21d70"
            ],
            "layout": "IPY_MODEL_fc6a0b6ab2a64bff94bbfef090cd2de6"
          }
        },
        "94aa4a7534ed4d24b7ec5aa2d97c0980": {
          "model_module": "@jupyter-widgets/controls",
          "model_module_version": "1.5.0",
          "model_name": "ProgressStyleModel",
          "state": {
            "_model_module": "@jupyter-widgets/controls",
            "_model_module_version": "1.5.0",
            "_model_name": "ProgressStyleModel",
            "_view_count": null,
            "_view_module": "@jupyter-widgets/base",
            "_view_module_version": "1.2.0",
            "_view_name": "StyleView",
            "bar_color": null,
            "description_width": ""
          }
        },
        "a03753f07405418fab1496564c2817c3": {
          "model_module": "@jupyter-widgets/base",
          "model_module_version": "1.2.0",
          "model_name": "LayoutModel",
          "state": {
            "_model_module": "@jupyter-widgets/base",
            "_model_module_version": "1.2.0",
            "_model_name": "LayoutModel",
            "_view_count": null,
            "_view_module": "@jupyter-widgets/base",
            "_view_module_version": "1.2.0",
            "_view_name": "LayoutView",
            "align_content": null,
            "align_items": null,
            "align_self": null,
            "border": null,
            "bottom": null,
            "display": null,
            "flex": null,
            "flex_flow": null,
            "grid_area": null,
            "grid_auto_columns": null,
            "grid_auto_flow": null,
            "grid_auto_rows": null,
            "grid_column": null,
            "grid_gap": null,
            "grid_row": null,
            "grid_template_areas": null,
            "grid_template_columns": null,
            "grid_template_rows": null,
            "height": null,
            "justify_content": null,
            "justify_items": null,
            "left": null,
            "margin": null,
            "max_height": null,
            "max_width": null,
            "min_height": null,
            "min_width": null,
            "object_fit": null,
            "object_position": null,
            "order": null,
            "overflow": null,
            "overflow_x": null,
            "overflow_y": null,
            "padding": null,
            "right": null,
            "top": null,
            "visibility": null,
            "width": null
          }
        },
        "c7b30721f0ed428493867569425b6fa1": {
          "model_module": "@jupyter-widgets/base",
          "model_module_version": "1.2.0",
          "model_name": "LayoutModel",
          "state": {
            "_model_module": "@jupyter-widgets/base",
            "_model_module_version": "1.2.0",
            "_model_name": "LayoutModel",
            "_view_count": null,
            "_view_module": "@jupyter-widgets/base",
            "_view_module_version": "1.2.0",
            "_view_name": "LayoutView",
            "align_content": null,
            "align_items": null,
            "align_self": null,
            "border": null,
            "bottom": null,
            "display": null,
            "flex": null,
            "flex_flow": null,
            "grid_area": null,
            "grid_auto_columns": null,
            "grid_auto_flow": null,
            "grid_auto_rows": null,
            "grid_column": null,
            "grid_gap": null,
            "grid_row": null,
            "grid_template_areas": null,
            "grid_template_columns": null,
            "grid_template_rows": null,
            "height": null,
            "justify_content": null,
            "justify_items": null,
            "left": null,
            "margin": null,
            "max_height": null,
            "max_width": null,
            "min_height": null,
            "min_width": null,
            "object_fit": null,
            "object_position": null,
            "order": null,
            "overflow": null,
            "overflow_x": null,
            "overflow_y": null,
            "padding": null,
            "right": null,
            "top": null,
            "visibility": null,
            "width": null
          }
        },
        "dca394773437492b91e15243bc91408f": {
          "model_module": "@jupyter-widgets/controls",
          "model_module_version": "1.5.0",
          "model_name": "HTMLModel",
          "state": {
            "_dom_classes": [],
            "_model_module": "@jupyter-widgets/controls",
            "_model_module_version": "1.5.0",
            "_model_name": "HTMLModel",
            "_view_count": null,
            "_view_module": "@jupyter-widgets/controls",
            "_view_module_version": "1.5.0",
            "_view_name": "HTMLView",
            "description": "",
            "description_tooltip": null,
            "layout": "IPY_MODEL_a03753f07405418fab1496564c2817c3",
            "placeholder": "​",
            "style": "IPY_MODEL_e3de9cb807d54efd8ac9904f4e2fe5dd",
            "value": "Loading checkpoint shards: 100%"
          }
        },
        "dd58ef89e0dc4251be492a320c458356": {
          "model_module": "@jupyter-widgets/controls",
          "model_module_version": "1.5.0",
          "model_name": "FloatProgressModel",
          "state": {
            "_dom_classes": [],
            "_model_module": "@jupyter-widgets/controls",
            "_model_module_version": "1.5.0",
            "_model_name": "FloatProgressModel",
            "_view_count": null,
            "_view_module": "@jupyter-widgets/controls",
            "_view_module_version": "1.5.0",
            "_view_name": "ProgressView",
            "bar_style": "success",
            "description": "",
            "description_tooltip": null,
            "layout": "IPY_MODEL_4519e06278204de99ac218b63ce410f0",
            "max": 2,
            "min": 0,
            "orientation": "horizontal",
            "style": "IPY_MODEL_94aa4a7534ed4d24b7ec5aa2d97c0980",
            "value": 2
          }
        },
        "e01b0db777a24e96a479b3a8eda6d4df": {
          "model_module": "@jupyter-widgets/controls",
          "model_module_version": "1.5.0",
          "model_name": "DescriptionStyleModel",
          "state": {
            "_model_module": "@jupyter-widgets/controls",
            "_model_module_version": "1.5.0",
            "_model_name": "DescriptionStyleModel",
            "_view_count": null,
            "_view_module": "@jupyter-widgets/base",
            "_view_module_version": "1.2.0",
            "_view_name": "StyleView",
            "description_width": ""
          }
        },
        "e3de9cb807d54efd8ac9904f4e2fe5dd": {
          "model_module": "@jupyter-widgets/controls",
          "model_module_version": "1.5.0",
          "model_name": "DescriptionStyleModel",
          "state": {
            "_model_module": "@jupyter-widgets/controls",
            "_model_module_version": "1.5.0",
            "_model_name": "DescriptionStyleModel",
            "_view_count": null,
            "_view_module": "@jupyter-widgets/base",
            "_view_module_version": "1.2.0",
            "_view_name": "StyleView",
            "description_width": ""
          }
        },
        "f8c6c4106f9a438998dfd464cda32102": {
          "model_module": "@jupyter-widgets/controls",
          "model_module_version": "1.5.0",
          "model_name": "DescriptionStyleModel",
          "state": {
            "_model_module": "@jupyter-widgets/controls",
            "_model_module_version": "1.5.0",
            "_model_name": "DescriptionStyleModel",
            "_view_count": null,
            "_view_module": "@jupyter-widgets/base",
            "_view_module_version": "1.2.0",
            "_view_name": "StyleView",
            "description_width": ""
          }
        },
        "fc6a0b6ab2a64bff94bbfef090cd2de6": {
          "model_module": "@jupyter-widgets/base",
          "model_module_version": "1.2.0",
          "model_name": "LayoutModel",
          "state": {
            "_model_module": "@jupyter-widgets/base",
            "_model_module_version": "1.2.0",
            "_model_name": "LayoutModel",
            "_view_count": null,
            "_view_module": "@jupyter-widgets/base",
            "_view_module_version": "1.2.0",
            "_view_name": "LayoutView",
            "align_content": null,
            "align_items": null,
            "align_self": null,
            "border": null,
            "bottom": null,
            "display": null,
            "flex": null,
            "flex_flow": null,
            "grid_area": null,
            "grid_auto_columns": null,
            "grid_auto_flow": null,
            "grid_auto_rows": null,
            "grid_column": null,
            "grid_gap": null,
            "grid_row": null,
            "grid_template_areas": null,
            "grid_template_columns": null,
            "grid_template_rows": null,
            "height": null,
            "justify_content": null,
            "justify_items": null,
            "left": null,
            "margin": null,
            "max_height": null,
            "max_width": null,
            "min_height": null,
            "min_width": null,
            "object_fit": null,
            "object_position": null,
            "order": null,
            "overflow": null,
            "overflow_x": null,
            "overflow_y": null,
            "padding": null,
            "right": null,
            "top": null,
            "visibility": null,
            "width": null
          }
        },
        "ffa64029b49b41a7b7e62fe8efa1e472": {
          "model_module": "@jupyter-widgets/controls",
          "model_module_version": "1.5.0",
          "model_name": "ProgressStyleModel",
          "state": {
            "_model_module": "@jupyter-widgets/controls",
            "_model_module_version": "1.5.0",
            "_model_name": "ProgressStyleModel",
            "_view_count": null,
            "_view_module": "@jupyter-widgets/base",
            "_view_module_version": "1.2.0",
            "_view_name": "StyleView",
            "bar_color": null,
            "description_width": ""
          }
        }
      }
    }
  },
  "nbformat": 4,
  "nbformat_minor": 0
}
